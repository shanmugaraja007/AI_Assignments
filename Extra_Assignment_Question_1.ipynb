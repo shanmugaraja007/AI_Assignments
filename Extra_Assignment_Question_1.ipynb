{
 "cells": [
  {
   "cell_type": "code",
   "execution_count": 2,
   "metadata": {},
   "outputs": [
    {
     "name": "stdout",
     "output_type": "stream",
     "text": [
      "HOPE AI\n"
     ]
    }
   ],
   "source": [
    "print(\"HOPE AI\")"
   ]
  },
  {
   "cell_type": "code",
   "execution_count": 5,
   "metadata": {},
   "outputs": [
    {
     "name": "stdout",
     "output_type": "stream",
     "text": [
      "enter institute name: HOPE AI\n",
      "instute name is:  HOPE AI\n"
     ]
    }
   ],
   "source": [
    "a=str(input(\"enter institute name: \"))\n",
    "print(\"instute name is: \",a)"
   ]
  },
  {
   "cell_type": "code",
   "execution_count": 7,
   "metadata": {},
   "outputs": [
    {
     "name": "stdout",
     "output_type": "stream",
     "text": [
      "enter your name: SAI\n",
      "enter your age: 19\n",
      "enter your school name: Maharishi\n",
      "enter your degree: B.E\n",
      " name:  SAI \n",
      " age:  19 \n",
      " school name:  Maharishi \n",
      " degree:  B.E\n"
     ]
    }
   ],
   "source": [
    "a=str(input(\"enter your name: \"))\n",
    "b=int(input(\"enter your age: \"))\n",
    "c=str(input(\"enter your school name: \"))\n",
    "d=str(input(\"enter your degree: \"))\n",
    "print(\" name: \",a,\"\\n age: \",b,\"\\n school name: \",c,\"\\n degree: \",d)\n"
   ]
  },
  {
   "cell_type": "code",
   "execution_count": 13,
   "metadata": {},
   "outputs": [
    {
     "name": "stdout",
     "output_type": "stream",
     "text": [
      "enter num1: 10\n",
      "enter num2: 2\n",
      "select operation:1.\n",
      "add\n",
      "2.mul\n",
      "3.sub\n",
      "4.div\n",
      "5.mod\n",
      "6.floor\n",
      "7.power\n",
      "enter operation6\n",
      "10 // 2 = 5\n"
     ]
    }
   ],
   "source": [
    "a=int(input(\"enter num1: \"))\n",
    "b=int(input(\"enter num2: \"))\n",
    "print(\"select operation:1.\\nadd\\n2.mul\\n3.sub\\n4.div\\n5.mod\\n6.floor\\n7.power: \")\n",
    "c=int(input(\"enter operation\"))\n",
    "if c==1:\n",
    "        print(a,\"+\",b,\"=\",a+b)\n",
    "elif c==2:\n",
    "        print(a,\"*\",b,\"=\",a*b)\n",
    "elif c==3:\n",
    "        print(a,\"-\",b,\"=\",a-b)\n",
    "elif c==4:\n",
    "        print(a,\"/\",b,\"=\",a/b)\n",
    "elif c==5:\n",
    "        print(a,\"%\",b,\"=\",a%b)\n",
    "elif c==6:\n",
    "        print(a,\"//\",b,\"=\",a//b)\n",
    "elif c==7:\n",
    "        print(a,\"^\",b,\"=\",pow(a,b))\n",
    "else:\n",
    "    print(\"enter valid operation\")"
   ]
  },
  {
   "cell_type": "code",
   "execution_count": null,
   "metadata": {},
   "outputs": [],
   "source": []
  }
 ],
 "metadata": {
  "kernelspec": {
   "display_name": "Python 3",
   "language": "python",
   "name": "python3"
  },
  "language_info": {
   "codemirror_mode": {
    "name": "ipython",
    "version": 3
   },
   "file_extension": ".py",
   "mimetype": "text/x-python",
   "name": "python",
   "nbconvert_exporter": "python",
   "pygments_lexer": "ipython3",
   "version": "3.7.4"
  }
 },
 "nbformat": 4,
 "nbformat_minor": 2
}
