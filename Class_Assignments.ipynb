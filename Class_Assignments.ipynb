{
 "cells": [
  {
   "cell_type": "code",
   "execution_count": 1,
   "metadata": {},
   "outputs": [
    {
     "name": "stdout",
     "output_type": "stream",
     "text": [
      "sub-fields in AI are:\n",
      "Machine Learning\n",
      "neural networks\n",
      "vision\n",
      "robotics\n",
      "speech processing\n",
      "NLP\n"
     ]
    }
   ],
   "source": [
    "class SubfieldsInAI():\n",
    "    \n",
    "    def subfields(values):\n",
    "        for i in values:\n",
    "            print(i)\n",
    "            \n",
    "values=[\"sub-fields in AI are:\",\"Machine Learning\",\"neural networks\",\"vision\",\"robotics\",\"speech processing\",\"NLP\"]\n",
    "SubfieldsInAI.subfields(values)"
   ]
  },
  {
   "cell_type": "code",
   "execution_count": 2,
   "metadata": {},
   "outputs": [
    {
     "name": "stdout",
     "output_type": "stream",
     "text": [
      "enter a number78953\n",
      "78953 is odd\n"
     ]
    }
   ],
   "source": [
    "class OddEven():\n",
    "    def oddeven(data):\n",
    "        if data%2 == 0:\n",
    "            print(data,\"is even\")\n",
    "        else:\n",
    "            print(data,\"is odd\")\n",
    "value=int(input(\"enter a number\"))\n",
    "OddEven.oddeven(value)\n",
    "     \n",
    "    "
   ]
  },
  {
   "cell_type": "code",
   "execution_count": 3,
   "metadata": {},
   "outputs": [
    {
     "name": "stdout",
     "output_type": "stream",
     "text": [
      "Your Gender: MALE\n",
      "your age:56\n",
      "eligible\n"
     ]
    }
   ],
   "source": [
    "class ElegiblityForMarriage():\n",
    "    \n",
    "    def Elegible(data):\n",
    "        for i,j in data.items():\n",
    "            if (i.lower() == \"male\") and (j>20):\n",
    "                print(\"eligible\")\n",
    "            elif(i.lower()==\"female\") and (j>17):\n",
    "                print(\"eligible\")\n",
    "            else:\n",
    "                print(\"not eligible\")\n",
    "\n",
    "gender=input(\"Your Gender: \")\n",
    "age=int(input(\"your age:\"))\n",
    "a={gender:age}\n",
    "ElegiblityForMarriage.Elegible(a)\n",
    "\n",
    "    "
   ]
  },
  {
   "cell_type": "code",
   "execution_count": 5,
   "metadata": {},
   "outputs": [
    {
     "name": "stdout",
     "output_type": "stream",
     "text": [
      "subject:100\n",
      "subject:100\n",
      "subject:98\n",
      "subject:95\n",
      "subject:89\n",
      "total:482\n",
      "percentage:96.4\n"
     ]
    }
   ],
   "source": [
    "class FindPercent():\n",
    "    \n",
    "    def percentage(data):\n",
    "        total=sum(data)\n",
    "        percentage=total/len(data)\n",
    "        print(\"total:{}\\npercentage:{}\".format(total,percentage))\n",
    "a=[]\n",
    "for i in range(5):\n",
    "    marks=int(input(\"subject:\"))\n",
    "    a.append(marks)\n",
    "FindPercent.percentage(a)\n",
    "    "
   ]
  },
  {
   "cell_type": "code",
   "execution_count": 6,
   "metadata": {},
   "outputs": [
    {
     "name": "stdout",
     "output_type": "stream",
     "text": [
      "Height:9\n",
      "Base:5\n",
      "Area formula: (Height*Base)/2\n",
      "Area of Triangle:22.5\n",
      "side1:4\n",
      "side2:7\n",
      "side3:9\n",
      "Perimeter formula: side1+side2+side3\n",
      "Perimeter of Triangle:20\n"
     ]
    }
   ],
   "source": [
    "class triangle():\n",
    "    \n",
    "    def Triangle(h,b,s1,s2,s3):\n",
    "        area=(h*b)/2\n",
    "        perimeter=s1+s2+s3\n",
    "        print(\"Height:{}\\nBase:{}\\nArea formula: (Height*Base)/2\\nArea of Triangle:{}\\nside1:{}\\nside2:{}\\nside3:{}\\nPerimeter formula: side1+side2+side3\\nPerimeter of Triangle:{}\".format(h,b,area,s1,s2,s3,perimeter))\n",
    "triangle.Triangle(h=9,b=5,s1=4,s2=7,s3=9)"
   ]
  },
  {
   "cell_type": "code",
   "execution_count": null,
   "metadata": {},
   "outputs": [],
   "source": []
  }
 ],
 "metadata": {
  "kernelspec": {
   "display_name": "Python 3",
   "language": "python",
   "name": "python3"
  },
  "language_info": {
   "codemirror_mode": {
    "name": "ipython",
    "version": 3
   },
   "file_extension": ".py",
   "mimetype": "text/x-python",
   "name": "python",
   "nbconvert_exporter": "python",
   "pygments_lexer": "ipython3",
   "version": "3.7.4"
  }
 },
 "nbformat": 4,
 "nbformat_minor": 2
}
