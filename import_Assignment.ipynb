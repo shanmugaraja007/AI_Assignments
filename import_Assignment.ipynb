{
 "cells": [
  {
   "cell_type": "code",
   "execution_count": 6,
   "metadata": {},
   "outputs": [],
   "source": [
    "from mainclass import Multifunction"
   ]
  },
  {
   "cell_type": "code",
   "execution_count": 7,
   "metadata": {},
   "outputs": [
    {
     "name": "stdout",
     "output_type": "stream",
     "text": [
      "sub-fields in AI are:\n",
      "Machine Learning\n",
      "neural networks\n",
      "vision\n",
      "robotics\n",
      "speech processing\n",
      "NLP\n"
     ]
    }
   ],
   "source": [
    "values=[\"sub-fields in AI are:\",\"Machine Learning\",\"neural networks\",\"vision\",\"robotics\",\"speech processing\",\"NLP\"]\n",
    "Multifunction.subfields(values)"
   ]
  },
  {
   "cell_type": "code",
   "execution_count": 8,
   "metadata": {},
   "outputs": [
    {
     "name": "stdout",
     "output_type": "stream",
     "text": [
      "enter a number78905\n",
      "78905 is odd\n"
     ]
    }
   ],
   "source": [
    "value=int(input(\"enter a number\"))\n",
    "Multifunction.oddeven(value)\n",
    "\n",
    "     \n",
    "    "
   ]
  },
  {
   "cell_type": "code",
   "execution_count": 9,
   "metadata": {},
   "outputs": [
    {
     "name": "stdout",
     "output_type": "stream",
     "text": [
      "Your Gender: MALE\n",
      "your age:24\n",
      "eligible\n"
     ]
    }
   ],
   "source": [
    "\n",
    "gender=input(\"Your Gender: \")\n",
    "age=int(input(\"your age:\"))\n",
    "a={gender:age}\n",
    "Multifunction.Elegible(a)\n",
    "\n",
    "    "
   ]
  },
  {
   "cell_type": "code",
   "execution_count": 10,
   "metadata": {},
   "outputs": [
    {
     "name": "stdout",
     "output_type": "stream",
     "text": [
      "subject:100\n",
      "subject:100\n",
      "subject:95\n",
      "subject:89\n",
      "subject:97\n",
      "total:481\n",
      "percentage:96.2\n"
     ]
    }
   ],
   "source": [
    "\n",
    "a=[]\n",
    "for i in range(5):\n",
    "    marks=int(input(\"subject:\"))\n",
    "    a.append(marks)\n",
    "Multifunction.percentage(a)\n",
    "    "
   ]
  },
  {
   "cell_type": "code",
   "execution_count": 11,
   "metadata": {},
   "outputs": [
    {
     "name": "stdout",
     "output_type": "stream",
     "text": [
      "Height:9\n",
      "Base:5\n",
      "Area formula: (Height*Base)/2\n",
      "Area of Triangle:22.5\n",
      "side1:4\n",
      "side2:7\n",
      "side3:9\n",
      "Perimeter formula: side1+side2+side3\n",
      "Perimeter of Triangle:20\n"
     ]
    }
   ],
   "source": [
    "Multifunction.Triangle(h=9,b=5,s1=4,s2=7,s3=9)"
   ]
  },
  {
   "cell_type": "code",
   "execution_count": null,
   "metadata": {},
   "outputs": [],
   "source": []
  }
 ],
 "metadata": {
  "kernelspec": {
   "display_name": "Python 3",
   "language": "python",
   "name": "python3"
  },
  "language_info": {
   "codemirror_mode": {
    "name": "ipython",
    "version": 3
   },
   "file_extension": ".py",
   "mimetype": "text/x-python",
   "name": "python",
   "nbconvert_exporter": "python",
   "pygments_lexer": "ipython3",
   "version": "3.7.4"
  }
 },
 "nbformat": 4,
 "nbformat_minor": 2
}
