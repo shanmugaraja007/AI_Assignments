{
 "cells": [
  {
   "cell_type": "code",
   "execution_count": 4,
   "metadata": {},
   "outputs": [
    {
     "name": "stdout",
     "output_type": "stream",
     "text": [
      "Value: 10\n",
      "correct\n"
     ]
    }
   ],
   "source": [
    "a=int(input(\"Value: \"))\n",
    "if a==10:\n",
    "    print(\"correct\")\n",
    "else:\n",
    "    print(\"not correct\")"
   ]
  },
  {
   "cell_type": "code",
   "execution_count": 3,
   "metadata": {},
   "outputs": [
    {
     "name": "stdout",
     "output_type": "stream",
     "text": [
      "enter the PasswordHOPE@123\n",
      "your password is correct\n"
     ]
    }
   ],
   "source": [
    "a=\"HOPE@123\"\n",
    "b=(input(\"enter the Password\"))\n",
    "if b==a:\n",
    "    print(\"your password is correct\")\n",
    "else:\n",
    "    print(\"invalid Password\")"
   ]
  },
  {
   "cell_type": "code",
   "execution_count": 2,
   "metadata": {},
   "outputs": [
    {
     "name": "stdout",
     "output_type": "stream",
     "text": [
      "enter name: GOPAL\n",
      "enter age: 13\n",
      "enter name: RAMESH\n",
      "enter age: 45\n",
      "enter name: KRISHNAN\n",
      "enter age: 65\n",
      "GOPAL is a children\n",
      "RAMESH is a Adult\n",
      "KRISHNAN is a senior citizen\n"
     ]
    }
   ],
   "source": [
    "data={}\n",
    "for i in range(3):\n",
    "    name=str(input(\"enter name: \"))\n",
    "    age=int(input(\"enter age: \"))\n",
    "    data.update({name:age})\n",
    "for x,y in data.items():\n",
    "    if y<18:\n",
    "        print(x,\"is a children\")\n",
    "    elif y<50:\n",
    "         print(x,\"is a Adult\")\n",
    "    elif y<100:\n",
    "        print(x,\"is a senior citizen\")"
   ]
  },
  {
   "cell_type": "code",
   "execution_count": 7,
   "metadata": {},
   "outputs": [
    {
     "name": "stdout",
     "output_type": "stream",
     "text": [
      "enter any number: 50\n",
      "50 is Possitive\n"
     ]
    }
   ],
   "source": [
    "a=int(input(\"enter any number: \"))\n",
    "if a>0:\n",
    "    print(a,\"is Possitive\")\n",
    "else:\n",
    "    print(a,\"is negative\")"
   ]
  },
  {
   "cell_type": "code",
   "execution_count": 8,
   "metadata": {},
   "outputs": [
    {
     "name": "stdout",
     "output_type": "stream",
     "text": [
      "50 is divisible by 5\n"
     ]
    }
   ],
   "source": [
    "if a%5==0:\n",
    "    print(a,\"is divisible by 5\")\n",
    "else:\n",
    "    print(a,\"is not divisible by 5\")"
   ]
  },
  {
   "cell_type": "code",
   "execution_count": null,
   "metadata": {},
   "outputs": [],
   "source": []
  }
 ],
 "metadata": {
  "kernelspec": {
   "display_name": "Python 3",
   "language": "python",
   "name": "python3"
  },
  "language_info": {
   "codemirror_mode": {
    "name": "ipython",
    "version": 3
   },
   "file_extension": ".py",
   "mimetype": "text/x-python",
   "name": "python",
   "nbconvert_exporter": "python",
   "pygments_lexer": "ipython3",
   "version": "3.7.4"
  }
 },
 "nbformat": 4,
 "nbformat_minor": 2
}
