{
 "cells": [
  {
   "cell_type": "code",
   "execution_count": 5,
   "metadata": {},
   "outputs": [
    {
     "name": "stdout",
     "output_type": "stream",
     "text": [
      "Welcome to Assignment-1\n"
     ]
    }
   ],
   "source": [
    "print(\"Welcome to Assignment-1\")"
   ]
  },
  {
   "cell_type": "code",
   "execution_count": 4,
   "metadata": {},
   "outputs": [
    {
     "name": "stdout",
     "output_type": "stream",
     "text": [
      " num1= 10 \n",
      " num2= 30 \n",
      " add= 40\n"
     ]
    }
   ],
   "source": [
    "a=10\n",
    "b=30\n",
    "print(\" num1=\",a,\"\\n num2=\",b,\"\\n add=\",a+b)"
   ]
  },
  {
   "cell_type": "code",
   "execution_count": 3,
   "metadata": {},
   "outputs": [
    {
     "name": "stdout",
     "output_type": "stream",
     "text": [
      "enter patient name: raja\n",
      "enter BMI: 32\n",
      "enter patient name: soorya\n",
      "enter BMI: 17\n",
      "enter patient name: suresh\n",
      "enter BMI: 20\n",
      "raja is obesity\n",
      "soorya is under weight\n",
      "suresh is overweight\n"
     ]
    }
   ],
   "source": [
    "Dict={}\n",
    "for i in range(3):\n",
    "    name=str(input(\"enter patient name: \"))\n",
    "    BMI=int(input(\"enter BMI: \"))\n",
    "    Dict.update({name:BMI})\n",
    "for x,y in Dict.items():\n",
    "    if y<18.5:\n",
    "        print(x,\"is under weight\")\n",
    "    elif 18.5>y<24.9:\n",
    "        print(x,\"is normal weight\")\n",
    "    elif 25>y<29.9:\n",
    "        print(x,\"is overweight\")\n",
    "    elif y>30:\n",
    "        print(x,\"is obesity\")"
   ]
  },
  {
   "cell_type": "code",
   "execution_count": null,
   "metadata": {},
   "outputs": [],
   "source": []
  },
  {
   "cell_type": "code",
   "execution_count": null,
   "metadata": {},
   "outputs": [],
   "source": []
  }
 ],
 "metadata": {
  "kernelspec": {
   "display_name": "Python 3",
   "language": "python",
   "name": "python3"
  },
  "language_info": {
   "codemirror_mode": {
    "name": "ipython",
    "version": 3
   },
   "file_extension": ".py",
   "mimetype": "text/x-python",
   "name": "python",
   "nbconvert_exporter": "python",
   "pygments_lexer": "ipython3",
   "version": "3.7.4"
  }
 },
 "nbformat": 4,
 "nbformat_minor": 2
}
